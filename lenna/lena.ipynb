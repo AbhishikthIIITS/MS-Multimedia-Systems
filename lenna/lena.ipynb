{
 "cells": [
  {
   "cell_type": "code",
   "execution_count": 9,
   "id": "e2b033bc",
   "metadata": {},
   "outputs": [],
   "source": [
    "import numpy as np"
   ]
  },
  {
   "cell_type": "code",
   "execution_count": 27,
   "id": "e53bdfd1",
   "metadata": {},
   "outputs": [],
   "source": [
    "from PIL import Image,ImageDraw\n",
    "inputImage=Image.open(\"lena.png\")\n",
    "inputImage.show()"
   ]
  },
  {
   "cell_type": "code",
   "execution_count": 3,
   "id": "3bf902b2",
   "metadata": {},
   "outputs": [
    {
     "name": "stdout",
     "output_type": "stream",
     "text": [
      "image width= 512\n",
      "image height= 512\n"
     ]
    }
   ],
   "source": [
    "width,height = inputImage.size\n",
    "print(\"image width=\",width)\n",
    "print(\"image height=\",height)"
   ]
  },
  {
   "cell_type": "code",
   "execution_count": 4,
   "id": "d269438a",
   "metadata": {},
   "outputs": [],
   "source": [
    "pixel_val=list(inputImage.getdata())"
   ]
  },
  {
   "cell_type": "code",
   "execution_count": 10,
   "id": "3ad4388e",
   "metadata": {},
   "outputs": [
    {
     "data": {
      "text/plain": [
       "array([[[226, 137, 125],\n",
       "        [226, 137, 125],\n",
       "        [223, 137, 133],\n",
       "        ...,\n",
       "        [230, 148, 122],\n",
       "        [221, 130, 110],\n",
       "        [200,  99,  90]],\n",
       "\n",
       "       [[226, 137, 125],\n",
       "        [226, 137, 125],\n",
       "        [223, 137, 133],\n",
       "        ...,\n",
       "        [230, 148, 122],\n",
       "        [221, 130, 110],\n",
       "        [200,  99,  90]],\n",
       "\n",
       "       [[226, 137, 125],\n",
       "        [226, 137, 125],\n",
       "        [223, 137, 133],\n",
       "        ...,\n",
       "        [230, 148, 122],\n",
       "        [221, 130, 110],\n",
       "        [200,  99,  90]],\n",
       "\n",
       "       ...,\n",
       "\n",
       "       [[ 84,  18,  60],\n",
       "        [ 84,  18,  60],\n",
       "        [ 92,  27,  58],\n",
       "        ...,\n",
       "        [173,  73,  84],\n",
       "        [172,  68,  76],\n",
       "        [177,  62,  79]],\n",
       "\n",
       "       [[ 82,  22,  57],\n",
       "        [ 82,  22,  57],\n",
       "        [ 96,  32,  62],\n",
       "        ...,\n",
       "        [179,  70,  79],\n",
       "        [181,  71,  81],\n",
       "        [185,  74,  81]],\n",
       "\n",
       "       [[ 82,  22,  57],\n",
       "        [ 82,  22,  57],\n",
       "        [ 96,  32,  62],\n",
       "        ...,\n",
       "        [179,  70,  79],\n",
       "        [181,  71,  81],\n",
       "        [185,  74,  81]]])"
      ]
     },
     "execution_count": 10,
     "metadata": {},
     "output_type": "execute_result"
    }
   ],
   "source": [
    "pixels=np.array(inputImage.getdata()).reshape(width,height,3)\n",
    "pixels"
   ]
  },
  {
   "cell_type": "code",
   "execution_count": 13,
   "id": "c70f8d51",
   "metadata": {},
   "outputs": [
    {
     "name": "stdout",
     "output_type": "stream",
     "text": [
      "223\n",
      "(226, 137, 125)\n"
     ]
    }
   ],
   "source": [
    "print(pixels[0,2,0])\n",
    "print(pixel_val[1])"
   ]
  },
  {
   "cell_type": "code",
   "execution_count": 16,
   "id": "f6f103a5",
   "metadata": {},
   "outputs": [],
   "source": [
    "for i in range(height):\n",
    "    inputImage.putpixel((i,i),(0,0,0))"
   ]
  },
  {
   "cell_type": "code",
   "execution_count": 18,
   "id": "b408bfb0",
   "metadata": {},
   "outputs": [],
   "source": [
    "inputImage.show()"
   ]
  },
  {
   "cell_type": "code",
   "execution_count": 21,
   "id": "c1f55851",
   "metadata": {},
   "outputs": [],
   "source": [
    "im_gray=inputImage.convert('CMYK')\n",
    "im_gray.show()"
   ]
  },
  {
   "cell_type": "code",
   "execution_count": 25,
   "id": "5eb0b605",
   "metadata": {},
   "outputs": [
    {
     "name": "stdout",
     "output_type": "stream",
     "text": [
      "(0, 0, 0)\n",
      "(255, 255, 255, 0)\n"
     ]
    }
   ],
   "source": [
    "coordinate=x,y=1,1\n",
    "print(inputImage.getpixel(coordinate))\n",
    "print(im_gray.getpixel(coordinate))"
   ]
  },
  {
   "cell_type": "code",
   "execution_count": 32,
   "id": "b91db8d9",
   "metadata": {},
   "outputs": [],
   "source": [
    "txt=\"not really a fancy text\"\n",
    "imgDrawer=ImageDraw.Draw(inputImage)\n",
    "imgDrawer.text((5,30),txt)\n",
    "inputImage.show()"
   ]
  },
  {
   "cell_type": "code",
   "execution_count": null,
   "id": "e942a425",
   "metadata": {},
   "outputs": [],
   "source": []
  }
 ],
 "metadata": {
  "kernelspec": {
   "display_name": "Python 3 (ipykernel)",
   "language": "python",
   "name": "python3"
  },
  "language_info": {
   "codemirror_mode": {
    "name": "ipython",
    "version": 3
   },
   "file_extension": ".py",
   "mimetype": "text/x-python",
   "name": "python",
   "nbconvert_exporter": "python",
   "pygments_lexer": "ipython3",
   "version": "3.11.4"
  }
 },
 "nbformat": 4,
 "nbformat_minor": 5
}
